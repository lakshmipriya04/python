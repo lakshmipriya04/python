{
 "cells": [
  {
   "cell_type": "code",
   "execution_count": 20,
   "metadata": {},
   "outputs": [
    {
     "name": "stdout",
     "output_type": "stream",
     "text": [
      "Hello world\n",
      "hELLO WORLd\n",
      "11\n",
      "hello everyone\n",
      "3\n",
      "True\n",
      "True\n",
      "['hello', 'world']\n",
      "2\n",
      "-1\n"
     ]
    },
    {
     "ename": "ValueError",
     "evalue": "substring not found",
     "output_type": "error",
     "traceback": [
      "\u001b[1;31m---------------------------------------------------------------------------\u001b[0m",
      "\u001b[1;31mValueError\u001b[0m                                Traceback (most recent call last)",
      "\u001b[1;32m<ipython-input-20-85530fed6943>\u001b[0m in \u001b[0;36m<module>\u001b[1;34m()\u001b[0m\n\u001b[0;32m     31\u001b[0m \u001b[1;33m\u001b[0m\u001b[0m\n\u001b[0;32m     32\u001b[0m \u001b[1;31m#index\u001b[0m\u001b[1;33m\u001b[0m\u001b[1;33m\u001b[0m\u001b[0m\n\u001b[1;32m---> 33\u001b[1;33m \u001b[0mprint\u001b[0m\u001b[1;33m(\u001b[0m\u001b[0mstr1\u001b[0m\u001b[1;33m.\u001b[0m\u001b[0mindex\u001b[0m\u001b[1;33m(\u001b[0m\u001b[1;34m'x'\u001b[0m\u001b[1;33m)\u001b[0m\u001b[1;33m)\u001b[0m \u001b[1;31m#throws error wen not found\u001b[0m\u001b[1;33m\u001b[0m\u001b[0m\n\u001b[0m",
      "\u001b[1;31mValueError\u001b[0m: substring not found"
     ]
    }
   ],
   "source": [
    "str1 = 'hello world'\n",
    "#capitalize\n",
    "print(str1.capitalize())\n",
    "\n",
    "str2 = 'Hello worlD'\n",
    "#swap case\n",
    "print(str2.swapcase())\n",
    "\n",
    "#length\n",
    "print(len(str2))\n",
    "\n",
    "#replace\n",
    "print(str1.replace('world', 'everyone'))\n",
    "\n",
    "#count\n",
    "sub = \"l\"\n",
    "print(str1.count(sub))\n",
    "\n",
    "#startswith\n",
    "print(str1.startswith('hello'))\n",
    "\n",
    "#endswith\n",
    "print(str1.endswith('world'))\n",
    "\n",
    "#split \n",
    "print(str1.split())\n",
    "\n",
    "#finds first occurence position (index starts with 0)\n",
    "print(str1.find('l'))\n",
    "print(str1.find('x')) #negative index wen not found\n",
    "\n",
    "#index \n",
    "print(str1.index('x')) #throws error wen not found\n",
    "\n"
   ]
  },
  {
   "cell_type": "code",
   "execution_count": null,
   "metadata": {},
   "outputs": [],
   "source": []
  },
  {
   "cell_type": "code",
   "execution_count": null,
   "metadata": {},
   "outputs": [],
   "source": []
  }
 ],
 "metadata": {
  "kernelspec": {
   "display_name": "Python 3",
   "language": "python",
   "name": "python3"
  },
  "language_info": {
   "codemirror_mode": {
    "name": "ipython",
    "version": 3
   },
   "file_extension": ".py",
   "mimetype": "text/x-python",
   "name": "python",
   "nbconvert_exporter": "python",
   "pygments_lexer": "ipython3",
   "version": "3.6.3"
  }
 },
 "nbformat": 4,
 "nbformat_minor": 2
}
