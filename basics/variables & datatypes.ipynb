{
 "cells": [
  {
   "cell_type": "code",
   "execution_count": 10,
   "metadata": {},
   "outputs": [
    {
     "name": "stdout",
     "output_type": "stream",
     "text": [
      "hey\n",
      "<class 'str'>\n",
      "<class 'int'>\n",
      "<class 'float'>\n",
      "<class 'list'>\n",
      "<class 'dict'>\n",
      "3\n",
      "1.1\n",
      "hello world\n",
      "helloworld\n"
     ]
    }
   ],
   "source": [
    "greeting = 'hello'\n",
    "greeting = 'hey'\n",
    "print(greeting)\n",
    "\n",
    "myList = [1,2,3,'hey']\n",
    "myDict = {'a':1.1, 'b':2, 'c':'three'}\n",
    "print(type('hello'))\n",
    "print(type(25))\n",
    "print(type(25.0))\n",
    "print(type(myList))\n",
    "print(type(myDict))\n",
    "print((myList[2]))\n",
    "print((myDict['a']))\n",
    "print('hello','world')\n",
    "print('hello'+'world')"
   ]
  },
  {
   "cell_type": "code",
   "execution_count": null,
   "metadata": {},
   "outputs": [],
   "source": []
  }
 ],
 "metadata": {
  "kernelspec": {
   "display_name": "Python 3",
   "language": "python",
   "name": "python3"
  },
  "language_info": {
   "codemirror_mode": {
    "name": "ipython",
    "version": 3
   },
   "file_extension": ".py",
   "mimetype": "text/x-python",
   "name": "python",
   "nbconvert_exporter": "python",
   "pygments_lexer": "ipython3",
   "version": "3.6.3"
  }
 },
 "nbformat": 4,
 "nbformat_minor": 2
}
