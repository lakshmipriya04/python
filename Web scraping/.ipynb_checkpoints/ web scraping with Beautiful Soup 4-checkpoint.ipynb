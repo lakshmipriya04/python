{
 "cells": [
  {
   "cell_type": "code",
   "execution_count": 1,
   "metadata": {
    "collapsed": true
   },
   "outputs": [],
   "source": [
    "import bs4 as bs"
   ]
  },
  {
   "cell_type": "code",
   "execution_count": 2,
   "metadata": {
    "collapsed": true
   },
   "outputs": [],
   "source": [
    "import urllib.request"
   ]
  },
  {
   "cell_type": "code",
   "execution_count": 3,
   "metadata": {
    "collapsed": true
   },
   "outputs": [],
   "source": [
    "source = urllib.request.urlopen('https://pythonprogramming.net/parsememcparseface/').read()"
   ]
  },
  {
   "cell_type": "markdown",
   "metadata": {},
   "source": [
    "This is a beautiful soup object:"
   ]
  },
  {
   "cell_type": "code",
   "execution_count": 4,
   "metadata": {
    "collapsed": true
   },
   "outputs": [],
   "source": [
    "soup = bs.BeautifulSoup(source,'lxml')"
   ]
  },
  {
   "cell_type": "code",
   "execution_count": 5,
   "metadata": {},
   "outputs": [
    {
     "name": "stdout",
     "output_type": "stream",
     "text": [
      "<html>\n",
      "<head>\n",
      "<!--\n",
      "\t\tpalette:\n",
      "\t\tdark blue: #003F72\n",
      "\t\tyellow: #FFD166\n",
      "\t\tsalmon: #EF476F\n",
      "\t\toffwhite: #e7d7d7\n",
      "\t\tLight Blue: #118AB2\n",
      "\t\tLight green: #7DDF64\n",
      "\t\t-->\n",
      "<meta content=\"width=device-width, initial-scale=1.0\" name=\"viewport\"/>\n",
      "<title>Python Programming Tutorials</title>\n",
      "<meta content=\"Python Programming tutorials from beginner to advanced on a massive variety of topics. All video and text tutorials are free.\" name=\"description\"/>\n",
      "<link href=\"/static/favicon.ico\" rel=\"shortcut icon\"/>\n",
      "<link href=\"/static/css/materialize.min.css\" rel=\"stylesheet\"/>\n",
      "<link href=\"https://fonts.googleapis.com/icon?family=Material+Icons\" rel=\"stylesheet\"/>\n",
      "<meta content=\"3fLok05gk5gGtWd_VSXbSSSH27F2kr1QqcxYz9vYq2k\" name=\"google-site-verification\"/>\n",
      "<link href=\"/static/css/bootstrap.css\" rel=\"stylesheet\" type=\"text/css\"/>\n",
      "<!-- Compiled and minified CSS -->\n",
      "<!-- Compiled and minified JavaScript -->\n",
      "<script src=\"https://code.jquery.com/jquery-2.1.4.min.js\"></script>\n",
      "<script src=\"https://cdnjs.cloudflare.com/ajax/libs/materialize/0.97.3/js/materialize.min.js\"></script>\n",
      "<style>\n",
      "\t\t@media (min-width:992px) {\n",
      "\t\t#aside {\n",
      "\t\t\twidth:250px;\n",
      "\t\t}\n",
      "\t\tpre { tab-size: 4;}\n",
      "\t\t.btn {background-color:#FFD166;\n",
      "\t\t\t  color:#000;\n",
      "\t\t      height:auto;\n",
      "\t\t\t  font-color:#000;\n",
      "\t\t\t  }\n",
      "\t\t.btn:hover {background-color:#FFD166;\n",
      "\t\t\t\t\t}\n",
      "\n",
      "\n",
      "\t\t</style>\n",
      "<!-- Google Tracking -->\n",
      "<script>\n",
      "\t\t\t  (function(i,s,o,g,r,a,m){i['GoogleAnalyticsObject']=r;i[r]=i[r]||function(){\n",
      "\t\t\t  (i[r].q=i[r].q||[]).push(arguments)},i[r].l=1*new Date();a=s.createElement(o),\n",
      "\t\t\t  m=s.getElementsByTagName(o)[0];a.async=1;a.src=g;m.parentNode.insertBefore(a,m)\n",
      "\t\t\t  })(window,document,'script','//www.google-analytics.com/analytics.js','ga');\n",
      "\n",
      "\t\t\t  ga('create', 'UA-51891827-1', 'auto');\n",
      "\t\t\t  ga('send', 'pageview');\n",
      "\n",
      "\t\t</script>\n",
      "<script async=\"\" src=\"//pagead2.googlesyndication.com/pagead/js/adsbygoogle.js\"></script>\n",
      "<script>\n",
      "                         (adsbygoogle = window.adsbygoogle || []).push({\n",
      "                              google_ad_client: \"ca-pub-1579050400541873\",\n",
      "                              enable_page_level_ads: true\n",
      "                         });\n",
      "                    </script>\n",
      "</head>\n",
      "<body>\n",
      "<div class=\"navbar-fixed\">\n",
      "<nav style=\"background-color:#003F72\">\n",
      "<div class=\"nav-wrapper container\">\n",
      "<a class=\"brand-logo\" href=\"/\"><img class=\"img-responsive\" src=\"/static/images/mainlogowhitethick.jpg\" style=\"width:50px; height;50px; margin-top:5px\"/></a>\n",
      "<a class=\"button-collapse\" data-activates=\"navsidebar\" href=\"#\"><i class=\"mdi-navigation-menu\"></i></a>\n",
      "<ul class=\"right hide-on-med-and-down\">\n",
      "<li><i class=\"material-icons\">search</i></li>\n",
      "<li>\n",
      "<form action=\"/search/?l=hi\" id=\"searchform\" method=\"get\" style=\"height:50px; padding-top:10px\">\n",
      "<input id=\"search\" name=\"q\" placeholder=\"search\" style=\"font-size:16px\" type=\"search\"/>\n",
      "</form>\n",
      "</li>\n",
      "<li><a href=\"/\">Home</a></li>\n",
      "<li><a class=\"tooltipped\" data-delay=\"50\" data-position=\"bottom\" data-tooltip=\"sudo apt-get upgrade\" href=\"/+=1/\">+=1</a></li>\n",
      "<!--<li><a href=\"/store/python-hoodie/\">Store</a></li>-->\n",
      "<li><a href=\"/support/\">Support the Content</a></li>\n",
      "<li><a href=\"https://goo.gl/7zgAVQ\" target=\"blank\"><!--<i class=\"material-icons\">question_answer</i>-->Community</a></li>\n",
      "<li><a href=\"/login/\">Log in</a></li>\n",
      "<li><a href=\"/register/\">Sign up</a></li>\n",
      "</ul>\n",
      "<ul class=\"side-nav\" id=\"navsidebar\">\n",
      "<li>\n",
      "<form action=\"/search/?l=hi\" id=\"searchform\" method=\"get\" style=\"height:50px; padding-top:10px\">\n",
      "<input id=\"search\" name=\"q\" placeholder=\"search\" style=\"font-size:16px\" type=\"search\"/>\n",
      "</form>\n",
      "</li>\n",
      "<li><a href=\"/\">Home</a></li>\n",
      "<li><a class=\"tooltipped\" data-delay=\"50\" data-position=\"bottom\" data-tooltip=\"sudo apt-get upgrade\" href=\"/+=1/\">+=1</a></li>\n",
      "<!--<li><a href=\"/store/python-hoodie/\">Store</a></li>-->\n",
      "<li><a href=\"/support/\">Support the Content</a></li>\n",
      "<li><a href=\"https://goo.gl/7zgAVQ\" target=\"blank\"><!--<i class=\"material-icons\">question_answer</i>-->Community</a></li>\n",
      "<li><a href=\"/login/\">Log in</a></li>\n",
      "<li><a href=\"/register/\">Sign up</a></li>\n",
      "</ul>\n",
      "</div>\n",
      "</nav>\n",
      "</div>\n",
      "<!-- main content -->\n",
      "<div class=\"container\" style=\"max-width:1500px; min-height:100%\">\n",
      "<!--<p style=\"font-size:80%\">Over the last few weeks, PythonProgramming.net has been the target of increasingly severe DoS attacks. If you're noticing issues, it's probably because someone, somewhere, really doesn't want you to learn Python. Be prepared to make a few attempts sometimes!</p>-->\n",
      "<div class=\"body\">\n",
      "<p class=\"introduction\">Oh, hello! This is a <span style=\"font-size:115%\">wonderful</span> page meant to let you practice web scraping. This page was originally created to help people work with the <a href=\"https://www.crummy.com/software/BeautifulSoup/bs4/doc/\" target=\"blank\"><strong>Beautiful Soup 4</strong></a> library.</p>\n",
      "<p>The following table gives some general information for the following <code>programming languages</code>:</p>\n",
      "<ul>\n",
      "<li>Python</li>\n",
      "<li>Pascal</li>\n",
      "<li>Lisp</li>\n",
      "<li>D#</li>\n",
      "<li>Cobol</li>\n",
      "<li>Fortran</li>\n",
      "<li>Haskell</li>\n",
      "</ul>\n",
      "<table style=\"width:100%\">\n",
      "<tr>\n",
      "<th>Program Name</th>\n",
      "<th>Internet Points</th>\n",
      "<th>Kittens?</th>\n",
      "</tr>\n",
      "<tr>\n",
      "<td>Python</td>\n",
      "<td>932914021</td>\n",
      "<td>Definitely</td>\n",
      "</tr>\n",
      "<tr>\n",
      "<td>Pascal</td>\n",
      "<td>532</td>\n",
      "<td>Unlikely</td>\n",
      "</tr>\n",
      "<tr>\n",
      "<td>Lisp</td>\n",
      "<td>1522</td>\n",
      "<td>Uncertain</td>\n",
      "</tr>\n",
      "<tr>\n",
      "<td>D#</td>\n",
      "<td>12</td>\n",
      "<td>Possibly</td>\n",
      "</tr>\n",
      "<tr>\n",
      "<td>Cobol</td>\n",
      "<td>3</td>\n",
      "<td>No.</td>\n",
      "</tr>\n",
      "<tr>\n",
      "<td>Fortran</td>\n",
      "<td>52124</td>\n",
      "<td>Yes.</td>\n",
      "</tr>\n",
      "<tr>\n",
      "<td>Haskell</td>\n",
      "<td>24</td>\n",
      "<td>lol.</td>\n",
      "</tr>\n",
      "</table>\n",
      "<p>I think it's clear that, on a scale of 1-10, python is:</p>\n",
      "<div class=\"card hoverable\">\n",
      "<div class=\"card-content\">\n",
      "<div class=\"card-title\"></div>\n",
      "<img alt=\"omg batman\" class=\"responsive-img\" src=\"https://s-media-cache-ak0.pinimg.com/originals/e8/2a/ff/e82aff2876b080675449d0cef7685321.jpg\"/>\n",
      "</div>\n",
      "</div>\n",
      "<p>Javascript (dynamic data) test:</p>\n",
      "<p class=\"jstest\" id=\"yesnojs\">y u bad tho?</p>\n",
      "<script>\n",
      "     document.getElementById('yesnojs').innerHTML = 'Look at you shinin!';\n",
      "  </script>\n",
      "<br/><br/>\n",
      "<pre>Beautiful is better than ugly.\n",
      "Explicit is better than implicit.\n",
      "Simple is better than complex.\n",
      "Complex is better than complicated.\n",
      "Flat is better than nested.\n",
      "Sparse is better than dense.\n",
      "Readability counts.\n",
      "Special cases aren't special enough to break the rules.\n",
      "Although practicality beats purity.\n",
      "Errors should never pass silently.\n",
      "Unless explicitly silenced.\n",
      "In the face of ambiguity, refuse the temptation to guess.\n",
      "There should be one-- and preferably only one --obvious way to do it.\n",
      "Although that way may not be obvious at first unless you're Dutch.\n",
      "Now is better than never.\n",
      "Although never is often better than *right* now.\n",
      "If the implementation is hard to explain, it's a bad idea.\n",
      "If the implementation is easy to explain, it may be a good idea.\n",
      "Namespaces are one honking great idea -- let's do more of those!</pre>\n",
      "<p>Whᶐt hαppéns now¿</p>\n",
      "<p><a href=\"/sitemap.xml\" target=\"blank\"><strong>sitemap</strong></a></p>\n",
      "</div></div></body>\n",
      "<!--login modal-->\n",
      "<div class=\"modal\" id=\"modalLogin\">\n",
      "<div class=\"modal-content\">\n",
      "<h2 class=\"center-align\">Login</h2>\n",
      "<div class=\"center-align\">\n",
      "<div class=\"divider\"></div>\n",
      "<form class=\"col s12\">\n",
      "<div class=\"row center-align\">\n",
      "<div class=\"input-field col m10\">\n",
      "<input class=\"validate\" id=\"icon_prefix\" type=\"text\"/>\n",
      "<label for=\"icon_prefix\">Username</label>\n",
      "</div>\n",
      "<div class=\"input-field col m10\">\n",
      "<input class=\"validate\" id=\"icon_password\" type=\"password\"/>\n",
      "<label for=\"icon_password\">Password</label>\n",
      "</div>\n",
      "</div>\n",
      "</form>\n",
      "<div class=\"divider\"></div>\n",
      "<p>\n",
      "<a class=\"btn btn-flat white modal-close\" href=\"#\">Cancel</a>  \n",
      "\t\t\t\t\t\t<a class=\"waves-effect waves-blue blue btn btn-flat modal-action modal-close\" href=\"#\">Login</a>\n",
      "</p>\n",
      "</div>\n",
      "</div>\n",
      "</div>\n",
      "<!--Register modal-->\n",
      "<div class=\"modal\" id=\"modalRegister\">\n",
      "<div class=\"modal-content\">\n",
      "<h2 class=\"center-align\">Sign up</h2>\n",
      "<div class=\"center-align\">\n",
      "<div class=\"divider\"></div>\n",
      "<form action=\"/register/\" method=\"post\">\n",
      "<div class=\"input-field col\">\n",
      "<input class=\"validate\" id=\"username\" type=\"text\"/>\n",
      "<label for=\"username\">Username</label>\n",
      "</div>\n",
      "<div class=\"input-field col\">\n",
      "<input class=\"validate\" id=\"password\" type=\"password\"/>\n",
      "<label for=\"password\">Password</label>\n",
      "</div>\n",
      "<div class=\"input-field col\">\n",
      "<input class=\"validate\" id=\"confirm\" type=\"password\"/>\n",
      "<label for=\"confirm\">Repeat Password</label>\n",
      "</div>\n",
      "<div class=\"input-field col\">\n",
      "<input class=\"validate\" id=\"email\" type=\"text\"/>\n",
      "<label for=\"email\">Email</label>\n",
      "</div>\n",
      "<div class=\"divider\"></div>\n",
      "<p>\n",
      "<a class=\"btn btn-flat white modal-close\" href=\"#\">Cancel</a>  \n",
      "\t\t\t\t\t\t\t\t<button class=\"btn\" type=\"submit\" value=\"Register\">Sign Up</button>\n",
      "</p>\n",
      "</form>\n",
      "</div>\n",
      "</div>\n",
      "</div>\n",
      "<script>\n",
      "\t\t\t$(document).ready(function(){\n",
      "\t\t\t\t$(\".button-collapse\").sideNav();\n",
      "\t\t\t\t$('.modal-trigger').leanModal();\n",
      "\t\t\t\t$('.collapsible').collapsible({\n",
      "\t\t\t\t  accordion : false // A setting that changes the collapsible behavior to expandable instead of the default accordion style\n",
      "\t\t\t\t});\n",
      "\t\t\t\t$('#aside').pushpin({ top:110, bottom:500 });\n",
      "\t\t  });\n",
      "\t\t</script>\n",
      "<script>\n",
      "\t\t  $(document).ready(function(){\n",
      "\t\t\t$('.collapsible').collapsible({\n",
      "\t\t\t  accordion : false // A setting that changes the collapsible behavior to expandable instead of the default accordion style\n",
      "\t\t\t});\n",
      "\t\t\t$('select').material_select();\n",
      "\t\t  });\n",
      "\t  </script>\n",
      "<script>\n",
      "\t\tfunction goBack() {\n",
      "\t\t\twindow.history.back()\n",
      "\t\t}\n",
      "\t</script>\n",
      "<script src=\"/static/js/run_prettify.js\" type=\"text/javascript\"></script>\n",
      "<footer class=\"page-footer\">\n",
      "<div class=\"container\">\n",
      "<div class=\"row\">\n",
      "<div class=\"col l6 s12\">\n",
      "<h5 class=\"white-text\">You've reached the end!</h5>\n",
      "<p class=\"grey-text text-lighten-4\">Contact: Harrison@pythonprogramming.net.</p>\n",
      "<ul>\n",
      "<li><a class=\"grey-text text-lighten-3\" href=\"/support-donate/\">Support this Website!</a></li>\n",
      "<li><a class=\"grey-text text-lighten-3\" href=\"/consulting/\">Hire me</a></li>\n",
      "<li><a class=\"grey-text text-lighten-3\" href=\"https://www.facebook.com/pythonprogramming.net/\">Facebook</a></li>\n",
      "<li><a class=\"grey-text text-lighten-3\" href=\"https://twitter.com/sentdex\">Twitter</a></li>\n",
      "<li><a class=\"grey-text text-lighten-3\" href=\"https://plus.google.com/+sentdex\">Google+</a></li>\n",
      "</ul>\n",
      "</div>\n",
      "<div class=\"col l4 offset-l2 s12\">\n",
      "<h6 class=\"white-text\">Legal stuff:</h6>\n",
      "<ul>\n",
      "<li><a class=\"grey-text text-lighten-3\" href=\"/about/tos/\">Terms and Conditions</a></li>\n",
      "<li><a class=\"grey-text text-lighten-3\" href=\"/about/privacy-policy/\">Privacy Policy</a></li>\n",
      "</ul>\n",
      "</div>\n",
      "</div>\n",
      "</div>\n",
      "<a href=\"https://xkcd.com/353/\" target=\"blank\"><p class=\"grey-text right\" style=\"padding-right:10px\">Programming is a superpower.</p></a>\n",
      "<div class=\"footer-copyright\">\n",
      "<div class=\"container\">\n",
      "            © OVER 9000! PythonProgramming.net\n",
      "\n",
      "            </div>\n",
      "</div>\n",
      "</footer>\n",
      "</html>\n",
      "\n"
     ]
    }
   ],
   "source": [
    "print(soup)"
   ]
  },
  {
   "cell_type": "code",
   "execution_count": 7,
   "metadata": {},
   "outputs": [
    {
     "name": "stdout",
     "output_type": "stream",
     "text": [
      "b'<html>\\n\\t<head>\\n\\n\\t\\t<!--\\n\\t\\tpalette:\\n\\t\\tdark blue: #003F72\\n\\t\\tyellow: #FFD166\\n\\t\\tsalmon: #EF476F\\n\\t\\toffwhite: #e7d7d7\\n\\t\\tLight Blue: #118AB2\\n\\t\\tLight green: #7DDF64\\n\\t\\t-->\\n\\n\\t\\t<meta name=\"viewport\" content = \"width=device-width, initial-scale=1.0\">\\n\\t\\t<title>Python Programming Tutorials</title>\\n\\n\\t\\t<meta name=\"description\" content=\"Python Programming tutorials from beginner to advanced on a massive variety of topics. All video and text tutorials are free.\">\\n\\n\\t\\t<link rel=\"shortcut icon\" href=\"/static/favicon.ico\">\\n\\t\\t<link rel=\"stylesheet\" href=\"/static/css/materialize.min.css\">\\n        <link href=\"https://fonts.googleapis.com/icon?family=Material+Icons\" rel=\"stylesheet\">\\n        <meta name=\"google-site-verification\" content=\"3fLok05gk5gGtWd_VSXbSSSH27F2kr1QqcxYz9vYq2k\" />\\n        <link rel=\"stylesheet\" type=\"text/css\" href=\"/static/css/bootstrap.css\">\\n\\n\\n\\t\\t  <!-- Compiled and minified CSS -->\\n\\n\\t\\t<!-- Compiled and minified JavaScript -->\\n\\n\\t\\t<script src=\"https://code.jquery.com/jquery-2.1.4.min.js\"></script>\\n\\t\\t<script src=\"https://cdnjs.cloudflare.com/ajax/libs/materialize/0.97.3/js/materialize.min.js\"></script>\\n\\n\\n\\n        <style>\\n\\t\\t@media (min-width:992px) {\\n\\t\\t#aside {\\n\\t\\t\\twidth:250px;\\n\\t\\t}\\n\\t\\tpre { tab-size: 4;}\\n\\t\\t.btn {background-color:#FFD166;\\n\\t\\t\\t  color:#000;\\n\\t\\t      height:auto;\\n\\t\\t\\t  font-color:#000;\\n\\t\\t\\t  }\\n\\t\\t.btn:hover {background-color:#FFD166;\\n\\t\\t\\t\\t\\t}\\n\\n\\n\\t\\t</style>\\n\\n\\t\\t<!-- Google Tracking -->\\n\\t\\t<script>\\n\\t\\t\\t  (function(i,s,o,g,r,a,m){i[\\'GoogleAnalyticsObject\\']=r;i[r]=i[r]||function(){\\n\\t\\t\\t  (i[r].q=i[r].q||[]).push(arguments)},i[r].l=1*new Date();a=s.createElement(o),\\n\\t\\t\\t  m=s.getElementsByTagName(o)[0];a.async=1;a.src=g;m.parentNode.insertBefore(a,m)\\n\\t\\t\\t  })(window,document,\\'script\\',\\'//www.google-analytics.com/analytics.js\\',\\'ga\\');\\n\\n\\t\\t\\t  ga(\\'create\\', \\'UA-51891827-1\\', \\'auto\\');\\n\\t\\t\\t  ga(\\'send\\', \\'pageview\\');\\n\\n\\t\\t</script>\\n\\n\\n\\n            \\n                    <script async src=\"//pagead2.googlesyndication.com/pagead/js/adsbygoogle.js\"></script>\\n                    <script>\\n                         (adsbygoogle = window.adsbygoogle || []).push({\\n                              google_ad_client: \"ca-pub-1579050400541873\",\\n                              enable_page_level_ads: true\\n                         });\\n                    </script>\\n                \\n\\n\\n\\n\\n\\t</head>\\n\\n\\t<body>\\n\\n\\t\\t<div class=\"navbar-fixed\">\\n\\t\\t\\t<nav style=\"background-color:#003F72\">\\n\\t\\t\\t\\t<div class=\"nav-wrapper container\">\\n\\t\\t\\t\\t\\t<a href=\"/\" class=\"brand-logo\"><img class=\"img-responsive\" style=\"width:50px; height;50px; margin-top:5px\" src=\"/static/images/mainlogowhitethick.jpg\"></a>\\n\\t\\t\\t\\t\\t<a href=\"#\" data-activates=\"navsidebar\" class=\"button-collapse\"><i class=\"mdi-navigation-menu\"></i></a>\\n\\t\\t\\t\\t\\t<ul class=\"right hide-on-med-and-down\">\\n\\t\\t\\t\\t\\t<li><i class=\"material-icons\">search</i></li>\\n\\t\\t\\t\\t\\t<li>\\n\\t\\t\\t\\t\\t\\t<form method=\\'get\\' id=\\'searchform\\' style=\\'height:50px; padding-top:10px\\' action=\\'/search/?l=hi\\'>\\n\\t\\t\\t\\t\\t\\t\\t<input name=\\'q\\' id=\"search\" type=\"search\" placeholder=\"search\"  style=\\'font-size:16px\\'>\\n\\t\\t\\t\\t\\t\\t</form>\\n\\t\\t\\t\\t\\t</li>\\n\\t\\t\\t\\t\\t\\t\\n\\t\\t\\t<li><a href=\"/\">Home</a></li>\\n\\t\\t\\t<li><a class=\"tooltipped\" data-position=\"bottom\" data-delay=\"50\" data-tooltip=\"sudo apt-get upgrade\" href=\"/+=1/\">+=1</a></li>\\n\\t\\t\\t<!--<li><a href=\"/store/python-hoodie/\">Store</a></li>-->\\n\\t\\t\\t<li><a href=\"/support/\">Support the Content</a></li>\\n\\t\\t\\t\\n\\t\\t\\t<li><a href=\"https://goo.gl/7zgAVQ\" target=\\'blank\\'><!--<i class=\"material-icons\">question_answer</i>-->Community</a></li>\\n\\t\\t\\t\\t<li><a href=\"/login/\">Log in</a></li>\\n                <li><a href=\"/register/\">Sign up</a></li>\\n\\t\\t\\t\\n\\n\\t\\t\\t\\t\\t</ul>\\n\\t\\t\\t\\t\\t<ul class=\"side-nav\" id=\"navsidebar\">\\n\\t\\t\\t\\t\\t<li>\\n\\t\\t\\t\\t\\t\\t<form method=\\'get\\' id=\\'searchform\\' style=\\'height:50px; padding-top:10px\\' action=\\'/search/?l=hi\\'>\\n\\t\\t\\t\\t\\t\\t\\t<input name=\\'q\\' id=\"search\" type=\"search\" placeholder=\"search\"  style=\\'font-size:16px\\'>\\n\\t\\t\\t\\t\\t\\t</form>\\n\\t\\t\\t\\t\\t</li>\\n\\t\\t\\t\\t\\t\\t\\n\\t\\t\\t<li><a href=\"/\">Home</a></li>\\n\\t\\t\\t<li><a class=\"tooltipped\" data-position=\"bottom\" data-delay=\"50\" data-tooltip=\"sudo apt-get upgrade\" href=\"/+=1/\">+=1</a></li>\\n\\t\\t\\t<!--<li><a href=\"/store/python-hoodie/\">Store</a></li>-->\\n\\t\\t\\t<li><a href=\"/support/\">Support the Content</a></li>\\n\\t\\t\\t\\n\\t\\t\\t<li><a href=\"https://goo.gl/7zgAVQ\" target=\\'blank\\'><!--<i class=\"material-icons\">question_answer</i>-->Community</a></li>\\n\\t\\t\\t\\t<li><a href=\"/login/\">Log in</a></li>\\n                <li><a href=\"/register/\">Sign up</a></li>\\n\\t\\t\\t\\n\\n\\t\\t\\t\\t\\t</ul>\\n\\t\\t\\t\\t</div>\\n\\t\\t\\t</nav>\\n\\t\\t</div>\\n\\n\\t\\t<!-- main content -->\\n\\t\\t<div class=\"container\" style=\"max-width:1500px; min-height:100%\">\\n\\t\\t\\t<!--<p style=\"font-size:80%\">Over the last few weeks, PythonProgramming.net has been the target of increasingly severe DoS attacks. If you\\'re noticing issues, it\\'s probably because someone, somewhere, really doesn\\'t want you to learn Python. Be prepared to make a few attempts sometimes!</p>-->\\n\\t\\t\\t\\t\\t\\n\\t\\t\\t\\t\\t\\n\\t\\t\\t\\t\\t  \\n\\t\\t\\t\\t\\t\\n\\n\\t\\t\\t\\t\\t\\n\\n<div class=\"body\">\\n\\n\\t<p class=\\'introduction\\'>Oh, hello! This is a <span style=\\'font-size:115%\\'>wonderful</span> page meant to let you practice web scraping. This page was originally created to help people work with the <a href=\"https://www.crummy.com/software/BeautifulSoup/bs4/doc/\" target=\"blank\"><strong>Beautiful Soup 4</strong></a> library.</p>\\n\\n\\t<p>The following table gives some general information for the following <code>programming languages</code>:</p>\\n\\n\\t<ul>\\n\\t\\t<li>Python</li>\\n\\t\\t<li>Pascal</li>\\n\\t\\t<li>Lisp</li>\\n\\t\\t<li>D#</li>\\n\\t\\t<li>Cobol</li>\\n\\t\\t<li>Fortran</li>\\n\\t\\t<li>Haskell</li>\\n\\t</ul>\\n\\n\\n\\t<table style=\"width:100%\">\\n\\n\\t  <tr>\\n\\t    <th>Program Name</th>\\n\\t    <th>Internet Points</th> \\n\\t    <th>Kittens?</th>\\n\\t  </tr>\\n\\n\\t  <tr>\\n\\t    <td>Python</td>\\n\\t    <td>932914021</td> \\n\\t    <td>Definitely</td>\\n\\t  </tr>\\n\\n\\t  <tr>\\n\\t    <td>Pascal</td>\\n\\t    <td>532</td> \\n\\t    <td>Unlikely</td>\\n\\t  </tr>\\n\\n\\n\\t  <tr>\\n\\t    <td>Lisp</td>\\n\\t    <td>1522</td> \\n\\t    <td>Uncertain</td>\\n\\t  </tr>\\n\\n\\n\\t  <tr>\\n\\t    <td>D#</td>\\n\\t    <td>12</td> \\n\\t    <td>Possibly</td>\\n\\t  </tr>\\n\\n\\n\\t  <tr>\\n\\t    <td>Cobol</td>\\n\\t    <td>3</td> \\n\\t    <td>No.</td>\\n\\t  </tr>\\n\\n\\t  <tr>\\n\\t    <td>Fortran</td>\\n\\t    <td>52124</td> \\n\\t    <td>Yes.</td>\\n\\t  </tr>\\n\\n\\t  <tr>\\n\\t    <td>Haskell</td>\\n\\t    <td>24</td> \\n\\t    <td>lol.</td>\\n\\t  </tr>\\n\\n\\t</table>\\n\\n\\t<p>I think it\\'s clear that, on a scale of 1-10, python is:</p>\\n\\n\\t<div class=\\'card hoverable\\'>\\n\\t\\t<div class=\\'card-content\\'>\\n\\t\\t\\t<div class=\\'card-title\\'></div>\\n\\t\\t\\t<img class=\"responsive-img\" src=\"https://s-media-cache-ak0.pinimg.com/originals/e8/2a/ff/e82aff2876b080675449d0cef7685321.jpg\" alt=\"omg batman\" />\\n\\t\\t</div>\\n\\t</div>\\n\\n  <p>Javascript (dynamic data) test:</p>\\n  <p class=\\'jstest\\' id=\\'yesnojs\\'>y u bad tho?</p>\\n  <script>\\n     document.getElementById(\\'yesnojs\\').innerHTML = \\'Look at you shinin!\\';\\n  </script> \\n\\n<br><br>\\n\\t\\n<pre>Beautiful is better than ugly.\\nExplicit is better than implicit.\\nSimple is better than complex.\\nComplex is better than complicated.\\nFlat is better than nested.\\nSparse is better than dense.\\nReadability counts.\\nSpecial cases aren\\'t special enough to break the rules.\\nAlthough practicality beats purity.\\nErrors should never pass silently.\\nUnless explicitly silenced.\\nIn the face of ambiguity, refuse the temptation to guess.\\nThere should be one-- and preferably only one --obvious way to do it.\\nAlthough that way may not be obvious at first unless you\\'re Dutch.\\nNow is better than never.\\nAlthough never is often better than *right* now.\\nIf the implementation is hard to explain, it\\'s a bad idea.\\nIf the implementation is easy to explain, it may be a good idea.\\nNamespaces are one honking great idea -- let\\'s do more of those!</pre>\\n\\n\\t<p>Wh\\xe1\\xb6\\x90t h\\xce\\xb1pp\\xc3\\xa9ns now\\xc2\\xbf</p>\\n\\n\\t<p><a href=\"/sitemap.xml\" target=\"blank\"><strong>sitemap</strong></a></p>\\n\\n</body>\\n\\n\\n\\t\\t\\t</div>\\n\\t\\t</div>\\n\\n\\t\\t<!--login modal-->\\n\\t\\t\\n<div id=\"modalLogin\" class=\"modal\">\\n\\t\\t\\t<div class=\"modal-content\">\\n\\t\\t\\t\\t<h2 class=\"center-align\">Login</h2>\\n\\t\\t\\t\\t<div class=\"center-align\">\\n\\t\\t\\t\\t\\t<div class=\"divider\"></div>\\n\\t\\t\\t\\t\\t\\n\\t\\t\\t\\t\\t<form class=\"col s12\">\\n\\t\\t\\t\\t\\t\\t<div class=\"row center-align\">\\n\\t\\t\\t\\t\\t\\t\\t<div class=\"input-field col m10\">\\n\\t\\t\\t\\t\\t\\t\\t\\t<input id=\"icon_prefix\" type=\"text\" class=\"validate\">\\n\\t\\t\\t\\t\\t\\t\\t\\t<label for=\"icon_prefix\">Username</label>\\n\\t\\t\\t\\t\\t\\t\\t</div>\\n\\t\\t\\t\\t\\t\\t\\t<div class=\"input-field col m10\">\\n\\t\\t\\t\\t\\t\\t\\t\\t<input id=\"icon_password\" type=\"password\" class=\"validate\">\\n\\t\\t\\t\\t\\t\\t\\t\\t<label for=\"icon_password\">Password</label>\\n\\t\\t\\t\\t\\t\\t\\t</div>\\n\\t\\t\\t\\t\\t\\t</div>\\n\\t\\t\\t\\t\\t</form>\\n\\t\\t\\t\\t\\t\\n\\t\\t\\t\\t\\t\\n\\t\\t\\t\\t\\t<div class=\"divider\"></div>\\n\\t\\t\\t\\t\\t<p>\\n\\t\\t\\t\\t\\t\\t<a href=\"#\" class=\"btn btn-flat white modal-close\">Cancel</a> &nbsp;\\n\\t\\t\\t\\t\\t\\t<a href=\"#\" class=\"waves-effect waves-blue blue btn btn-flat modal-action modal-close\">Login</a>\\n\\t\\t\\t\\t\\t</p>\\n\\t\\t\\t\\t\\t\\n\\t\\t\\t\\t\\t\\n\\t\\t\\t\\t</div>\\n\\t\\t\\t</div>\\n\\t\\t</div>\\n\\n\\n\\n\\t\\t<!--Register modal-->\\n\\t\\t\\n\\t\\t<div id=\"modalRegister\" class=\"modal\">\\n\\t\\t\\t<div class=\"modal-content\">\\n\\t\\t\\t\\t<h2 class=\"center-align\">Sign up</h2>\\n\\t\\t\\t\\t<div class=\"center-align\">\\n\\t\\t\\t\\t\\t<div class=\"divider\"></div>\\n\\t\\t\\t\\t\\t\\n\\t\\t\\t\\t\\t<form action=\"/register/\" method=post >\\n\\t\\t\\t\\t\\t\\t\\t<div class=\"input-field col\">\\n\\t\\t\\t\\t\\t\\t\\t\\t<input id=\"username\" type=\"text\" class=\"validate\">\\n\\t\\t\\t\\t\\t\\t\\t\\t<label for=\"username\">Username</label>\\n\\t\\t\\t\\t\\t\\t\\t</div>\\n\\t\\t\\t\\t\\t\\t\\t<div class=\"input-field col\">\\n\\t\\t\\t\\t\\t\\t\\t\\t<input id=\"password\" type=\"password\" class=\"validate\">\\n\\t\\t\\t\\t\\t\\t\\t\\t<label for=\"password\">Password</label>\\n\\t\\t\\t\\t\\t\\t\\t</div>\\n\\t\\t\\t\\t\\t\\t\\t<div class=\"input-field col\">\\n\\t\\t\\t\\t\\t\\t\\t\\t<input id=\"confirm\" type=\"password\" class=\"validate\">\\n\\t\\t\\t\\t\\t\\t\\t\\t<label for=\"confirm\">Repeat Password</label>\\n\\t\\t\\t\\t\\t\\t\\t</div>\\n\\t\\t\\t\\t\\t\\t\\t\\n\\t\\t\\t\\t\\t\\t\\t<div class=\"input-field col\">\\n\\t\\t\\t\\t\\t\\t\\t\\t<input id=\"email\" type=\"text\" class=\"validate\">\\n\\t\\t\\t\\t\\t\\t\\t\\t<label for=\"email\">Email</label>\\n\\t\\t\\t\\t\\t\\t\\t</div>\\n\\n\\t\\t\\t\\t\\t\\t\\t<div class=\"divider\"></div>\\n\\t\\t\\t\\t\\t\\t\\t<p>\\n\\t\\t\\t\\t\\t\\t\\t\\t<a href=\"#\" class=\"btn btn-flat white modal-close\">Cancel</a> &nbsp;\\n\\t\\t\\t\\t\\t\\t\\t\\t<button class=\"btn\" type=submit value=Register>Sign Up</button>\\n\\t\\t\\t\\t\\t\\t\\t</p>\\n\\n\\t\\t\\t\\t\\t</form>\\n\\n\\t\\t\\t\\t\\t\\n\\n\\t\\t\\t\\t</div>\\n\\t\\t\\t</div>\\n\\t\\t</div>\\n\\n\\n\\n\\n\\t\\t<script>\\n\\t\\t\\t$(document).ready(function(){\\n\\t\\t\\t\\t$(\".button-collapse\").sideNav();\\n\\t\\t\\t\\t$(\\'.modal-trigger\\').leanModal();\\n\\t\\t\\t\\t$(\\'.collapsible\\').collapsible({\\n\\t\\t\\t\\t  accordion : false // A setting that changes the collapsible behavior to expandable instead of the default accordion style\\n\\t\\t\\t\\t});\\n\\t\\t\\t\\t$(\\'#aside\\').pushpin({ top:110, bottom:500 });\\n\\t\\t  });\\n\\t\\t</script>\\n\\t\\t<script>\\n\\t\\t  $(document).ready(function(){\\n\\t\\t\\t$(\\'.collapsible\\').collapsible({\\n\\t\\t\\t  accordion : false // A setting that changes the collapsible behavior to expandable instead of the default accordion style\\n\\t\\t\\t});\\n\\t\\t\\t$(\\'select\\').material_select();\\n\\t\\t  });\\n\\t  </script>\\n\\t  <script>\\n\\t\\tfunction goBack() {\\n\\t\\t\\twindow.history.back()\\n\\t\\t}\\n\\t</script>\\n\\t\\t<script type=\"text/javascript\" src=\"/static/js/run_prettify.js\"></script>\\n\\n\\t</body>\\n\\n<footer class=\"page-footer\">\\n          <div class=\"container\">\\n            <div class=\"row\">\\n              <div class=\"col l6 s12\">\\n                <h5 class=\"white-text\">You\\'ve reached the end!</h5>\\n\\n                <p class=\"grey-text text-lighten-4\">Contact: Harrison@pythonprogramming.net.</p>\\n                <ul>\\n                  <li><a class=\"grey-text text-lighten-3\" href=\"/support-donate/\">Support this Website!</a></li>\\n                  <li><a class=\"grey-text text-lighten-3\" href=\"/consulting/\">Hire me</a></li>\\n                  <li><a class=\"grey-text text-lighten-3\" href=\"https://www.facebook.com/pythonprogramming.net/\">Facebook</a></li>\\n                  <li><a class=\"grey-text text-lighten-3\" href=\"https://twitter.com/sentdex\">Twitter</a></li>\\n                  <li><a class=\"grey-text text-lighten-3\" href=\"https://plus.google.com/+sentdex\">Google+</a></li>\\n                </ul>\\n              </div>\\n              <div class=\"col l4 offset-l2 s12\">\\n                <h6 class=\"white-text\">Legal stuff:</h6>\\n                <ul>\\n                  <li><a class=\"grey-text text-lighten-3\" href=\"/about/tos/\">Terms and Conditions</a></li>\\n                  <li><a class=\"grey-text text-lighten-3\" href=\"/about/privacy-policy/\">Privacy Policy</a></li>\\n\\n                </ul>\\n              </div>\\n            </div>\\n          </div>\\n          <a href=\"https://xkcd.com/353/\" target=\\'blank\\'><p class=\"grey-text right\" style=\\'padding-right:10px\\'>Programming is a superpower.</p></a>\\n          <div class=\"footer-copyright\">\\n            <div class=\"container\">\\n            \\xc2\\xa9 OVER 9000! PythonProgramming.net\\n\\n            </div>\\n\\n          </div>\\n        </footer>\\n\\n</html>\\n\\n\\n\\n\\n\\n\\n\\n\\n\\n\\n\\n\\n\\n\\n'\n"
     ]
    }
   ],
   "source": [
    "print(source)"
   ]
  },
  {
   "cell_type": "markdown",
   "metadata": {},
   "source": [
    "it looks the same, but the source is just plain the response data, and the soup is an object that we can actually interact with, by tag, now, like so:"
   ]
  },
  {
   "cell_type": "code",
   "execution_count": 8,
   "metadata": {},
   "outputs": [
    {
     "name": "stdout",
     "output_type": "stream",
     "text": [
      "<title>Python Programming Tutorials</title>\n",
      "title\n",
      "Python Programming Tutorials\n",
      "head\n",
      "<p class=\"introduction\">Oh, hello! This is a <span style=\"font-size:115%\">wonderful</span> page meant to let you practice web scraping. This page was originally created to help people work with the <a href=\"https://www.crummy.com/software/BeautifulSoup/bs4/doc/\" target=\"blank\"><strong>Beautiful Soup 4</strong></a> library.</p>\n"
     ]
    }
   ],
   "source": [
    "# title of the page\n",
    "print(soup.title)"
   ]
  },
  {
   "cell_type": "code",
   "execution_count": 9,
   "metadata": {},
   "outputs": [
    {
     "name": "stdout",
     "output_type": "stream",
     "text": [
      "title\n"
     ]
    }
   ],
   "source": [
    "# get attributes:\n",
    "print(soup.title.name)"
   ]
  },
  {
   "cell_type": "code",
   "execution_count": 10,
   "metadata": {},
   "outputs": [
    {
     "name": "stdout",
     "output_type": "stream",
     "text": [
      "Python Programming Tutorials\n"
     ]
    }
   ],
   "source": [
    "# get values:\n",
    "print(soup.title.string)"
   ]
  },
  {
   "cell_type": "code",
   "execution_count": 11,
   "metadata": {},
   "outputs": [
    {
     "name": "stdout",
     "output_type": "stream",
     "text": [
      "head\n"
     ]
    }
   ],
   "source": [
    "# beginning navigation:\n",
    "print(soup.title.parent.name)"
   ]
  },
  {
   "cell_type": "code",
   "execution_count": 12,
   "metadata": {},
   "outputs": [
    {
     "name": "stdout",
     "output_type": "stream",
     "text": [
      "<p class=\"introduction\">Oh, hello! This is a <span style=\"font-size:115%\">wonderful</span> page meant to let you practice web scraping. This page was originally created to help people work with the <a href=\"https://www.crummy.com/software/BeautifulSoup/bs4/doc/\" target=\"blank\"><strong>Beautiful Soup 4</strong></a> library.</p>\n"
     ]
    }
   ],
   "source": [
    "# getting specific values:\n",
    "print(soup.p)"
   ]
  },
  {
   "cell_type": "code",
   "execution_count": null,
   "metadata": {
    "collapsed": true
   },
   "outputs": [],
   "source": []
  }
 ],
 "metadata": {
  "kernelspec": {
   "display_name": "Python [default]",
   "language": "python",
   "name": "python3"
  },
  "language_info": {
   "codemirror_mode": {
    "name": "ipython",
    "version": 3
   },
   "file_extension": ".py",
   "mimetype": "text/x-python",
   "name": "python",
   "nbconvert_exporter": "python",
   "pygments_lexer": "ipython3",
   "version": "3.6.3"
  }
 },
 "nbformat": 4,
 "nbformat_minor": 2
}
